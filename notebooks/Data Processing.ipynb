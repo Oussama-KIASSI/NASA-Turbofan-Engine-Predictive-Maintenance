{
 "cells": [
  {
   "cell_type": "markdown",
   "id": "36ec9a16",
   "metadata": {},
   "source": [
    "# Data Processing"
   ]
  },
  {
   "cell_type": "markdown",
   "id": "c3c3903f",
   "metadata": {},
   "source": [
    "Since high temperatures reduce the strength of composite materials (materials used in turbofan manufacturing). We will generate expanding window features to register the maximum temperature reached for each engine until the specific row. \n",
    "<br><br>\n",
    "Since pressure is synonym of constraint, attention will be given to the former as it can cause distortion. We will generate expanding window features to register the maximum pressure reached for each engine until the specific row.\n",
    "<br><br>We will also register the highest fluctuations in each variable to represent the beginning of engine degradation.\n",
    "<br><br>Furthermore, we will calculate some features like:\n",
    "* Outlet pressure at core nozzle P50 = P2 * epr\n",
    "* Fan speed difference between demand and supply DNf = Nf_dmd - Nf\n",
    "* Corrected fan speed difference between demand and supply DNRf = PCNRf_dmd - Nf \n"
   ]
  },
  {
   "cell_type": "code",
   "execution_count": 1,
   "id": "86b8dd55",
   "metadata": {},
   "outputs": [],
   "source": [
    "import pandas as pd\n"
   ]
  },
  {
   "cell_type": "code",
   "execution_count": 6,
   "id": "4b26a7c4",
   "metadata": {},
   "outputs": [
    {
     "data": {
      "text/html": [
       "<div>\n",
       "<style scoped>\n",
       "    .dataframe tbody tr th:only-of-type {\n",
       "        vertical-align: middle;\n",
       "    }\n",
       "\n",
       "    .dataframe tbody tr th {\n",
       "        vertical-align: top;\n",
       "    }\n",
       "\n",
       "    .dataframe thead th {\n",
       "        text-align: right;\n",
       "    }\n",
       "</style>\n",
       "<table border=\"1\" class=\"dataframe\">\n",
       "  <thead>\n",
       "    <tr style=\"text-align: right;\">\n",
       "      <th></th>\n",
       "      <th>Engine_no</th>\n",
       "      <th>Time</th>\n",
       "      <th>Altitude</th>\n",
       "      <th>Mach</th>\n",
       "      <th>TRA</th>\n",
       "      <th>T2</th>\n",
       "      <th>T24</th>\n",
       "      <th>T30</th>\n",
       "      <th>T50</th>\n",
       "      <th>P2</th>\n",
       "      <th>...</th>\n",
       "      <th>NRf</th>\n",
       "      <th>NRc</th>\n",
       "      <th>BPR</th>\n",
       "      <th>farB</th>\n",
       "      <th>htBleed</th>\n",
       "      <th>Nf_dmd</th>\n",
       "      <th>PCNfR_dmd</th>\n",
       "      <th>W31</th>\n",
       "      <th>W32</th>\n",
       "      <th>RUL</th>\n",
       "    </tr>\n",
       "  </thead>\n",
       "  <tbody>\n",
       "    <tr>\n",
       "      <th>0</th>\n",
       "      <td>1</td>\n",
       "      <td>1</td>\n",
       "      <td>-0.0005</td>\n",
       "      <td>0.0004</td>\n",
       "      <td>100.0</td>\n",
       "      <td>518.67</td>\n",
       "      <td>642.36</td>\n",
       "      <td>1583.23</td>\n",
       "      <td>1396.84</td>\n",
       "      <td>14.62</td>\n",
       "      <td>...</td>\n",
       "      <td>2388.01</td>\n",
       "      <td>8145.32</td>\n",
       "      <td>8.4246</td>\n",
       "      <td>0.03</td>\n",
       "      <td>391</td>\n",
       "      <td>2388</td>\n",
       "      <td>100.0</td>\n",
       "      <td>39.11</td>\n",
       "      <td>23.3537</td>\n",
       "      <td>258</td>\n",
       "    </tr>\n",
       "    <tr>\n",
       "      <th>1</th>\n",
       "      <td>1</td>\n",
       "      <td>2</td>\n",
       "      <td>0.0008</td>\n",
       "      <td>-0.0003</td>\n",
       "      <td>100.0</td>\n",
       "      <td>518.67</td>\n",
       "      <td>642.50</td>\n",
       "      <td>1584.69</td>\n",
       "      <td>1396.89</td>\n",
       "      <td>14.62</td>\n",
       "      <td>...</td>\n",
       "      <td>2388.03</td>\n",
       "      <td>8152.85</td>\n",
       "      <td>8.4403</td>\n",
       "      <td>0.03</td>\n",
       "      <td>392</td>\n",
       "      <td>2388</td>\n",
       "      <td>100.0</td>\n",
       "      <td>38.99</td>\n",
       "      <td>23.4491</td>\n",
       "      <td>257</td>\n",
       "    </tr>\n",
       "    <tr>\n",
       "      <th>2</th>\n",
       "      <td>1</td>\n",
       "      <td>3</td>\n",
       "      <td>-0.0014</td>\n",
       "      <td>-0.0002</td>\n",
       "      <td>100.0</td>\n",
       "      <td>518.67</td>\n",
       "      <td>642.18</td>\n",
       "      <td>1582.35</td>\n",
       "      <td>1405.61</td>\n",
       "      <td>14.62</td>\n",
       "      <td>...</td>\n",
       "      <td>2388.00</td>\n",
       "      <td>8150.17</td>\n",
       "      <td>8.3901</td>\n",
       "      <td>0.03</td>\n",
       "      <td>391</td>\n",
       "      <td>2388</td>\n",
       "      <td>100.0</td>\n",
       "      <td>38.85</td>\n",
       "      <td>23.3669</td>\n",
       "      <td>256</td>\n",
       "    </tr>\n",
       "    <tr>\n",
       "      <th>3</th>\n",
       "      <td>1</td>\n",
       "      <td>4</td>\n",
       "      <td>-0.0020</td>\n",
       "      <td>0.0001</td>\n",
       "      <td>100.0</td>\n",
       "      <td>518.67</td>\n",
       "      <td>642.92</td>\n",
       "      <td>1585.61</td>\n",
       "      <td>1392.27</td>\n",
       "      <td>14.62</td>\n",
       "      <td>...</td>\n",
       "      <td>2388.08</td>\n",
       "      <td>8146.56</td>\n",
       "      <td>8.3878</td>\n",
       "      <td>0.03</td>\n",
       "      <td>392</td>\n",
       "      <td>2388</td>\n",
       "      <td>100.0</td>\n",
       "      <td>38.96</td>\n",
       "      <td>23.2951</td>\n",
       "      <td>255</td>\n",
       "    </tr>\n",
       "    <tr>\n",
       "      <th>4</th>\n",
       "      <td>1</td>\n",
       "      <td>5</td>\n",
       "      <td>0.0016</td>\n",
       "      <td>0.0000</td>\n",
       "      <td>100.0</td>\n",
       "      <td>518.67</td>\n",
       "      <td>641.68</td>\n",
       "      <td>1588.63</td>\n",
       "      <td>1397.65</td>\n",
       "      <td>14.62</td>\n",
       "      <td>...</td>\n",
       "      <td>2388.03</td>\n",
       "      <td>8147.80</td>\n",
       "      <td>8.3869</td>\n",
       "      <td>0.03</td>\n",
       "      <td>392</td>\n",
       "      <td>2388</td>\n",
       "      <td>100.0</td>\n",
       "      <td>39.14</td>\n",
       "      <td>23.4583</td>\n",
       "      <td>254</td>\n",
       "    </tr>\n",
       "  </tbody>\n",
       "</table>\n",
       "<p>5 rows × 27 columns</p>\n",
       "</div>"
      ],
      "text/plain": [
       "   Engine_no  Time  Altitude    Mach    TRA      T2     T24      T30      T50  \\\n",
       "0          1     1   -0.0005  0.0004  100.0  518.67  642.36  1583.23  1396.84   \n",
       "1          1     2    0.0008 -0.0003  100.0  518.67  642.50  1584.69  1396.89   \n",
       "2          1     3   -0.0014 -0.0002  100.0  518.67  642.18  1582.35  1405.61   \n",
       "3          1     4   -0.0020  0.0001  100.0  518.67  642.92  1585.61  1392.27   \n",
       "4          1     5    0.0016  0.0000  100.0  518.67  641.68  1588.63  1397.65   \n",
       "\n",
       "      P2  ...      NRf      NRc     BPR  farB  htBleed  Nf_dmd  PCNfR_dmd  \\\n",
       "0  14.62  ...  2388.01  8145.32  8.4246  0.03      391    2388      100.0   \n",
       "1  14.62  ...  2388.03  8152.85  8.4403  0.03      392    2388      100.0   \n",
       "2  14.62  ...  2388.00  8150.17  8.3901  0.03      391    2388      100.0   \n",
       "3  14.62  ...  2388.08  8146.56  8.3878  0.03      392    2388      100.0   \n",
       "4  14.62  ...  2388.03  8147.80  8.3869  0.03      392    2388      100.0   \n",
       "\n",
       "     W31      W32  RUL  \n",
       "0  39.11  23.3537  258  \n",
       "1  38.99  23.4491  257  \n",
       "2  38.85  23.3669  256  \n",
       "3  38.96  23.2951  255  \n",
       "4  39.14  23.4583  254  \n",
       "\n",
       "[5 rows x 27 columns]"
      ]
     },
     "execution_count": 6,
     "metadata": {},
     "output_type": "execute_result"
    }
   ],
   "source": [
    "df = pd.read_csv('../data/02_interim/train_FD003.csv')\n",
    "df.head()"
   ]
  },
  {
   "cell_type": "code",
   "execution_count": 9,
   "id": "f400096b",
   "metadata": {},
   "outputs": [
    {
     "data": {
      "text/plain": [
       "100.0    24720\n",
       "Name: TRA, dtype: int64"
      ]
     },
     "execution_count": 9,
     "metadata": {},
     "output_type": "execute_result"
    }
   ],
   "source": [
    "df.TRA.value_counts()"
   ]
  },
  {
   "cell_type": "code",
   "execution_count": 12,
   "id": "4e768528",
   "metadata": {},
   "outputs": [
    {
     "name": "stderr",
     "output_type": "stream",
     "text": [
      "C:\\Users\\ZZ017V784\\Downloads\\NASA-Turbofan-Engine-Predictive-Maintenance\\venv\\lib\\site-packages\\seaborn\\_decorators.py:36: FutureWarning: Pass the following variable as a keyword arg: x. From version 0.12, the only valid positional argument will be `data`, and passing other arguments without an explicit keyword will result in an error or misinterpretation.\n",
      "  warnings.warn(\n"
     ]
    },
    {
     "data": {
      "text/plain": [
       "<AxesSubplot:xlabel='Nc'>"
      ]
     },
     "execution_count": 12,
     "metadata": {},
     "output_type": "execute_result"
    },
    {
     "data": {
      "image/png": "[encoded data removed]",
      "text/plain": [
       "<Figure size 432x288 with 1 Axes>"
      ]
     },
     "metadata": {
      "needs_background": "light"
     },
     "output_type": "display_data"
    }
   ],
   "source": [
    "import seaborn as sns\n",
    "sns.boxplot(df.Nc)"
   ]
  },
  {
   "cell_type": "code",
   "execution_count": null,
   "id": "1631e6b8",
   "metadata": {},
   "outputs": [],
   "source": []
  }
 ],
 "metadata": {
  "kernelspec": {
   "display_name": "venv",
   "language": "python",
   "name": "venv"
  },
  "language_info": {
   "codemirror_mode": {
    "name": "ipython",
    "version": 3
   },
   "file_extension": ".py",
   "mimetype": "text/x-python",
   "name": "python",
   "nbconvert_exporter": "python",
   "pygments_lexer": "ipython3",
   "version": "3.10.2"
  }
 },
 "nbformat": 4,
 "nbformat_minor": 5
}
