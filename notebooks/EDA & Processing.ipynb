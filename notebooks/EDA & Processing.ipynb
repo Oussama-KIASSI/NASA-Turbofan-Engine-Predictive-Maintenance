{
 "cells": [
  {
   "cell_type": "code",
   "execution_count": 11,
   "id": "d1da89da",
   "metadata": {},
   "outputs": [],
   "source": [
    "import sys\n",
    "sys.path.insert(1, '../src')\n",
    "\n",
    "import utils\n",
    "import pandas as pd\n",
    "import re"
   ]
  },
  {
   "cell_type": "code",
   "execution_count": 13,
   "id": "32b8cb42",
   "metadata": {},
   "outputs": [],
   "source": [
    "dataschema = ['engine', 'time', 'opset1', 'opset2', 'opset3', 'T2', 'T24', \n",
    "              'T30', 'T50', 'P2', 'P15', 'P30', 'Nf', 'Nc', 'epr', 'Ps30', \n",
    "              'phi', 'NRf', 'NRc', 'BPR', 'farB', 'htBleed', 'Nf_dmd', \n",
    "              'PCNfR_dmd', 'W31', 'W32']\n",
    "files = utils.data_loader('RUL', [\"RUL\"], dataschema)"
   ]
  },
  {
   "cell_type": "code",
   "execution_count": null,
   "id": "46194430",
   "metadata": {},
   "outputs": [],
   "source": []
  }
 ],
 "metadata": {
  "kernelspec": {
   "display_name": "venv",
   "language": "python",
   "name": "venv"
  },
  "language_info": {
   "codemirror_mode": {
    "name": "ipython",
    "version": 3
   },
   "file_extension": ".py",
   "mimetype": "text/x-python",
   "name": "python",
   "nbconvert_exporter": "python",
   "pygments_lexer": "ipython3",
   "version": "3.10.2"
  }
 },
 "nbformat": 4,
 "nbformat_minor": 5
}
